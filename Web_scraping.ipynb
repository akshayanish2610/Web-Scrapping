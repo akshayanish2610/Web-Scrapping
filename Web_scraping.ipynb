{
  "nbformat": 4,
  "nbformat_minor": 0,
  "metadata": {
    "colab": {
      "provenance": []
    },
    "kernelspec": {
      "name": "python3",
      "display_name": "Python 3"
    },
    "language_info": {
      "name": "python"
    }
  },
  "cells": [
    {
      "cell_type": "code",
      "execution_count": 1,
      "metadata": {
        "id": "QIJR4Us6WDv5"
      },
      "outputs": [],
      "source": [
        "import requests\n",
        "from bs4 import BeautifulSoup\n",
        "import csv"
      ]
    },
    {
      "cell_type": "code",
      "source": [
        "# URL of the Flipkart page with laptops\n",
        "url = \"https://www.flipkart.com/search?q=laptop\"\n",
        "\n",
        "response = requests.get(url)"
      ],
      "metadata": {
        "id": "O0Cny8dxyqh3"
      },
      "execution_count": 2,
      "outputs": []
    },
    {
      "cell_type": "code",
      "source": [
        "soup = BeautifulSoup(response.content, 'html.parser')"
      ],
      "metadata": {
        "id": "VEdQp-Cvyyby"
      },
      "execution_count": 3,
      "outputs": []
    },
    {
      "cell_type": "code",
      "source": [
        "laptops = soup.find_all('div', class_='_1AtVbE')"
      ],
      "metadata": {
        "id": "5VMMZ3hHwpbA"
      },
      "execution_count": 6,
      "outputs": []
    },
    {
      "cell_type": "code",
      "source": [
        "# Create a CSV file to write the data\n",
        "csv_file = open('laptops.csv', 'w', newline='', encoding='utf-8')\n",
        "csv_writer = csv.writer(csv_file)\n",
        "csv_writer.writerow(['Name', 'Price', 'Rating'])"
      ],
      "metadata": {
        "colab": {
          "base_uri": "https://localhost:8080/"
        },
        "id": "9qL1dQg2y2Nc",
        "outputId": "534c6be9-58de-4783-9387-c20e798e2519"
      },
      "execution_count": 7,
      "outputs": [
        {
          "output_type": "execute_result",
          "data": {
            "text/plain": [
              "19"
            ]
          },
          "metadata": {},
          "execution_count": 7
        }
      ]
    },
    {
      "cell_type": "code",
      "source": [
        "# Loop through the laptop elements and extract relevant information\n",
        "for laptop in laptops:\n",
        "    name_elem = laptop.find('div', class_='_4rR01T')\n",
        "    price_elem = laptop.find('div', class_='_30jeq3')\n",
        "    rating_elem = laptop.find('div', class_='gUuXy-')\n",
        "\n",
        "    if name_elem and price_elem and rating_elem:\n",
        "        name = name_elem.text.strip()\n",
        "        price = price_elem.text.strip()\n",
        "        rating = rating_elem.text.strip()\n",
        "        csv_writer.writerow([name, price, rating])\n"
      ],
      "metadata": {
        "id": "Mj2284kdy7Qy"
      },
      "execution_count": 8,
      "outputs": []
    },
    {
      "cell_type": "code",
      "source": [
        "# Close the CSV file\n",
        "csv_file.close()\n",
        "\n",
        "print(\"Scraping and writing to CSV file completed.\")"
      ],
      "metadata": {
        "colab": {
          "base_uri": "https://localhost:8080/"
        },
        "id": "keItvjmMy_HH",
        "outputId": "35de940e-9f0d-449e-eedf-9e27caefecd7"
      },
      "execution_count": 9,
      "outputs": [
        {
          "output_type": "stream",
          "name": "stdout",
          "text": [
            "Scraping and writing to CSV file completed.\n"
          ]
        }
      ]
    }
  ]
}